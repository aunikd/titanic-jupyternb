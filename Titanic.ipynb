{
 "cells": [
  {
   "cell_type": "code",
   "execution_count": 1,
   "metadata": {},
   "outputs": [],
   "source": [
    "import numpy as np, pandas as pd\n",
    "import matplotlib.pyplot as plt "
   ]
  },
  {
   "cell_type": "markdown",
   "metadata": {},
   "source": [
    "### Loading Dataset"
   ]
  },
  {
   "cell_type": "code",
   "execution_count": 2,
   "metadata": {},
   "outputs": [
    {
     "data": {
      "text/plain": [
       "(891, 12)"
      ]
     },
     "execution_count": 2,
     "metadata": {},
     "output_type": "execute_result"
    }
   ],
   "source": [
    "df=pd.read_csv('C:/Users/aunik/Desktop/titanic.csv')\n",
    "df.shape"
   ]
  },
  {
   "cell_type": "code",
   "execution_count": 3,
   "metadata": {},
   "outputs": [
    {
     "data": {
      "text/html": [
       "<div>\n",
       "<style scoped>\n",
       "    .dataframe tbody tr th:only-of-type {\n",
       "        vertical-align: middle;\n",
       "    }\n",
       "\n",
       "    .dataframe tbody tr th {\n",
       "        vertical-align: top;\n",
       "    }\n",
       "\n",
       "    .dataframe thead th {\n",
       "        text-align: right;\n",
       "    }\n",
       "</style>\n",
       "<table border=\"1\" class=\"dataframe\">\n",
       "  <thead>\n",
       "    <tr style=\"text-align: right;\">\n",
       "      <th></th>\n",
       "      <th>PassengerId</th>\n",
       "      <th>Survived</th>\n",
       "      <th>Pclass</th>\n",
       "      <th>Name</th>\n",
       "      <th>Sex</th>\n",
       "      <th>Age</th>\n",
       "      <th>SibSp</th>\n",
       "      <th>Parch</th>\n",
       "      <th>Ticket</th>\n",
       "      <th>Fare</th>\n",
       "      <th>Cabin</th>\n",
       "      <th>Embarked</th>\n",
       "    </tr>\n",
       "  </thead>\n",
       "  <tbody>\n",
       "    <tr>\n",
       "      <th>0</th>\n",
       "      <td>1</td>\n",
       "      <td>0</td>\n",
       "      <td>3</td>\n",
       "      <td>Braund, Mr. Owen Harris</td>\n",
       "      <td>male</td>\n",
       "      <td>22.0</td>\n",
       "      <td>1</td>\n",
       "      <td>0</td>\n",
       "      <td>A/5 21171</td>\n",
       "      <td>7.2500</td>\n",
       "      <td>NaN</td>\n",
       "      <td>S</td>\n",
       "    </tr>\n",
       "    <tr>\n",
       "      <th>1</th>\n",
       "      <td>2</td>\n",
       "      <td>1</td>\n",
       "      <td>1</td>\n",
       "      <td>Cumings, Mrs. John Bradley (Florence Briggs Th...</td>\n",
       "      <td>female</td>\n",
       "      <td>38.0</td>\n",
       "      <td>1</td>\n",
       "      <td>0</td>\n",
       "      <td>PC 17599</td>\n",
       "      <td>71.2833</td>\n",
       "      <td>C85</td>\n",
       "      <td>C</td>\n",
       "    </tr>\n",
       "    <tr>\n",
       "      <th>2</th>\n",
       "      <td>3</td>\n",
       "      <td>1</td>\n",
       "      <td>3</td>\n",
       "      <td>Heikkinen, Miss. Laina</td>\n",
       "      <td>female</td>\n",
       "      <td>26.0</td>\n",
       "      <td>0</td>\n",
       "      <td>0</td>\n",
       "      <td>STON/O2. 3101282</td>\n",
       "      <td>7.9250</td>\n",
       "      <td>NaN</td>\n",
       "      <td>S</td>\n",
       "    </tr>\n",
       "    <tr>\n",
       "      <th>3</th>\n",
       "      <td>4</td>\n",
       "      <td>1</td>\n",
       "      <td>1</td>\n",
       "      <td>Futrelle, Mrs. Jacques Heath (Lily May Peel)</td>\n",
       "      <td>female</td>\n",
       "      <td>35.0</td>\n",
       "      <td>1</td>\n",
       "      <td>0</td>\n",
       "      <td>113803</td>\n",
       "      <td>53.1000</td>\n",
       "      <td>C123</td>\n",
       "      <td>S</td>\n",
       "    </tr>\n",
       "    <tr>\n",
       "      <th>4</th>\n",
       "      <td>5</td>\n",
       "      <td>0</td>\n",
       "      <td>3</td>\n",
       "      <td>Allen, Mr. William Henry</td>\n",
       "      <td>male</td>\n",
       "      <td>35.0</td>\n",
       "      <td>0</td>\n",
       "      <td>0</td>\n",
       "      <td>373450</td>\n",
       "      <td>8.0500</td>\n",
       "      <td>NaN</td>\n",
       "      <td>S</td>\n",
       "    </tr>\n",
       "  </tbody>\n",
       "</table>\n",
       "</div>"
      ],
      "text/plain": [
       "   PassengerId  Survived  Pclass  \\\n",
       "0            1         0       3   \n",
       "1            2         1       1   \n",
       "2            3         1       3   \n",
       "3            4         1       1   \n",
       "4            5         0       3   \n",
       "\n",
       "                                                Name     Sex   Age  SibSp  \\\n",
       "0                            Braund, Mr. Owen Harris    male  22.0      1   \n",
       "1  Cumings, Mrs. John Bradley (Florence Briggs Th...  female  38.0      1   \n",
       "2                             Heikkinen, Miss. Laina  female  26.0      0   \n",
       "3       Futrelle, Mrs. Jacques Heath (Lily May Peel)  female  35.0      1   \n",
       "4                           Allen, Mr. William Henry    male  35.0      0   \n",
       "\n",
       "   Parch            Ticket     Fare Cabin Embarked  \n",
       "0      0         A/5 21171   7.2500   NaN        S  \n",
       "1      0          PC 17599  71.2833   C85        C  \n",
       "2      0  STON/O2. 3101282   7.9250   NaN        S  \n",
       "3      0            113803  53.1000  C123        S  \n",
       "4      0            373450   8.0500   NaN        S  "
      ]
     },
     "execution_count": 3,
     "metadata": {},
     "output_type": "execute_result"
    }
   ],
   "source": [
    "df.head()"
   ]
  },
  {
   "cell_type": "code",
   "execution_count": 4,
   "metadata": {},
   "outputs": [
    {
     "data": {
      "text/plain": [
       "0    549\n",
       "1    342\n",
       "Name: Survived, dtype: int64"
      ]
     },
     "execution_count": 4,
     "metadata": {},
     "output_type": "execute_result"
    }
   ],
   "source": [
    "df['Survived'].value_counts()"
   ]
  },
  {
   "cell_type": "raw",
   "metadata": {},
   "source": [
    "549 people have died\n",
    "342 people have survived"
   ]
  },
  {
   "cell_type": "markdown",
   "metadata": {},
   "source": [
    "# Age Analysis"
   ]
  },
  {
   "cell_type": "code",
   "execution_count": 5,
   "metadata": {
    "scrolled": true
   },
   "outputs": [
    {
     "data": {
      "text/plain": [
       "count    714.000000\n",
       "mean      29.699118\n",
       "std       14.526497\n",
       "min        0.420000\n",
       "25%       20.125000\n",
       "50%       28.000000\n",
       "75%       38.000000\n",
       "max       80.000000\n",
       "Name: Age, dtype: float64"
      ]
     },
     "execution_count": 5,
     "metadata": {},
     "output_type": "execute_result"
    }
   ],
   "source": [
    "df['Age'].describe()"
   ]
  },
  {
   "cell_type": "raw",
   "metadata": {},
   "source": [
    "Mapping Age from integer to classes to estimate\n",
    "Child-- Age<15\n",
    "Middle_Aged-- Age>15 and Age<50\n",
    "Old-- Age>50"
   ]
  },
  {
   "cell_type": "code",
   "execution_count": 6,
   "metadata": {},
   "outputs": [],
   "source": [
    "df['Age_Labelled']=df['Age'].apply(lambda x:\"Child\" if x<15 else (\"Middle_Aged\" if x>15 and x<50 else \"Old\"))"
   ]
  },
  {
   "cell_type": "markdown",
   "metadata": {},
   "source": [
    "### Created temporary dataframe for plotting purposes"
   ]
  },
  {
   "cell_type": "code",
   "execution_count": 7,
   "metadata": {},
   "outputs": [
    {
     "data": {
      "text/html": [
       "<div>\n",
       "<style scoped>\n",
       "    .dataframe tbody tr th:only-of-type {\n",
       "        vertical-align: middle;\n",
       "    }\n",
       "\n",
       "    .dataframe tbody tr th {\n",
       "        vertical-align: top;\n",
       "    }\n",
       "\n",
       "    .dataframe thead th {\n",
       "        text-align: right;\n",
       "    }\n",
       "</style>\n",
       "<table border=\"1\" class=\"dataframe\">\n",
       "  <thead>\n",
       "    <tr style=\"text-align: right;\">\n",
       "      <th></th>\n",
       "      <th>Age_Type</th>\n",
       "      <th>#Survived</th>\n",
       "      <th>#Travellers</th>\n",
       "      <th>%Survivors</th>\n",
       "    </tr>\n",
       "  </thead>\n",
       "  <tbody>\n",
       "    <tr>\n",
       "      <th>0</th>\n",
       "      <td>Child</td>\n",
       "      <td>45</td>\n",
       "      <td>78</td>\n",
       "      <td>0.576923</td>\n",
       "    </tr>\n",
       "    <tr>\n",
       "      <th>1</th>\n",
       "      <td>Middle_Aged</td>\n",
       "      <td>214</td>\n",
       "      <td>557</td>\n",
       "      <td>0.384201</td>\n",
       "    </tr>\n",
       "    <tr>\n",
       "      <th>2</th>\n",
       "      <td>Old</td>\n",
       "      <td>83</td>\n",
       "      <td>256</td>\n",
       "      <td>0.324219</td>\n",
       "    </tr>\n",
       "  </tbody>\n",
       "</table>\n",
       "</div>"
      ],
      "text/plain": [
       "      Age_Type  #Survived  #Travellers  %Survivors\n",
       "0        Child         45           78    0.576923\n",
       "1  Middle_Aged        214          557    0.384201\n",
       "2          Old         83          256    0.324219"
      ]
     },
     "execution_count": 7,
     "metadata": {},
     "output_type": "execute_result"
    }
   ],
   "source": [
    "Age_df=df.groupby('Age_Labelled').agg({'Survived':['sum','count','mean']}).reset_index().droplevel(0,axis=1)\n",
    "Age_df.columns=['Age_Type','#Survived','#Travellers','%Survivors']\n",
    "Age_df"
   ]
  },
  {
   "cell_type": "code",
   "execution_count": 8,
   "metadata": {},
   "outputs": [
    {
     "data": {
      "text/html": [
       "<div>\n",
       "<style scoped>\n",
       "    .dataframe tbody tr th:only-of-type {\n",
       "        vertical-align: middle;\n",
       "    }\n",
       "\n",
       "    .dataframe tbody tr th {\n",
       "        vertical-align: top;\n",
       "    }\n",
       "\n",
       "    .dataframe thead th {\n",
       "        text-align: right;\n",
       "    }\n",
       "</style>\n",
       "<table border=\"1\" class=\"dataframe\">\n",
       "  <thead>\n",
       "    <tr style=\"text-align: right;\">\n",
       "      <th></th>\n",
       "      <th>Age_Type</th>\n",
       "      <th>#Survived</th>\n",
       "      <th>#Travellers</th>\n",
       "      <th>%Survivors</th>\n",
       "      <th>#Died</th>\n",
       "      <th>%Died</th>\n",
       "    </tr>\n",
       "  </thead>\n",
       "  <tbody>\n",
       "    <tr>\n",
       "      <th>0</th>\n",
       "      <td>Child</td>\n",
       "      <td>45</td>\n",
       "      <td>78</td>\n",
       "      <td>0.576923</td>\n",
       "      <td>33</td>\n",
       "      <td>0.423077</td>\n",
       "    </tr>\n",
       "    <tr>\n",
       "      <th>1</th>\n",
       "      <td>Middle_Aged</td>\n",
       "      <td>214</td>\n",
       "      <td>557</td>\n",
       "      <td>0.384201</td>\n",
       "      <td>343</td>\n",
       "      <td>0.615799</td>\n",
       "    </tr>\n",
       "    <tr>\n",
       "      <th>2</th>\n",
       "      <td>Old</td>\n",
       "      <td>83</td>\n",
       "      <td>256</td>\n",
       "      <td>0.324219</td>\n",
       "      <td>173</td>\n",
       "      <td>0.675781</td>\n",
       "    </tr>\n",
       "  </tbody>\n",
       "</table>\n",
       "</div>"
      ],
      "text/plain": [
       "      Age_Type  #Survived  #Travellers  %Survivors  #Died     %Died\n",
       "0        Child         45           78    0.576923     33  0.423077\n",
       "1  Middle_Aged        214          557    0.384201    343  0.615799\n",
       "2          Old         83          256    0.324219    173  0.675781"
      ]
     },
     "execution_count": 8,
     "metadata": {},
     "output_type": "execute_result"
    }
   ],
   "source": [
    "Age_df['#Died']=Age_df['#Travellers']-Age_df['#Survived']\n",
    "Age_df['%Died']=Age_df['#Died']/Age_df['#Travellers']\n",
    "Age_df"
   ]
  },
  {
   "cell_type": "markdown",
   "metadata": {},
   "source": [
    "## Density plot and histogram plots to see the frequency of travellers based on Fare"
   ]
  },
  {
   "cell_type": "code",
   "execution_count": 9,
   "metadata": {},
   "outputs": [
    {
     "ename": "ModuleNotFoundError",
     "evalue": "No module named 'scipy'",
     "output_type": "error",
     "traceback": [
      "\u001b[1;31m---------------------------------------------------------------------------\u001b[0m",
      "\u001b[1;31mModuleNotFoundError\u001b[0m                       Traceback (most recent call last)",
      "\u001b[1;32mc:\\Users\\aunik\\Desktop\\Titanic Dataset Analysis-Jupyter Notebook\\titanic_jupyternb\\Tittanic.ipynb Cell 15'\u001b[0m in \u001b[0;36m<cell line: 1>\u001b[1;34m()\u001b[0m\n\u001b[1;32m----> <a href='vscode-notebook-cell:/c%3A/Users/aunik/Desktop/Titanic%20Dataset%20Analysis-Jupyter%20Notebook/titanic_jupyternb/Tittanic.ipynb#ch0000014?line=0'>1</a>\u001b[0m df[[\u001b[39m'\u001b[39;49m\u001b[39mFare\u001b[39;49m\u001b[39m'\u001b[39;49m]]\u001b[39m.\u001b[39;49mplot(kind\u001b[39m=\u001b[39;49m\u001b[39m'\u001b[39;49m\u001b[39mdensity\u001b[39;49m\u001b[39m'\u001b[39;49m,xlim\u001b[39m=\u001b[39;49m[\u001b[39m-\u001b[39;49m\u001b[39m10\u001b[39;49m,\u001b[39m100\u001b[39;49m])\n",
      "File \u001b[1;32m~\\AppData\\Local\\Programs\\Python\\Python310\\lib\\site-packages\\pandas\\plotting\\_core.py:972\u001b[0m, in \u001b[0;36mPlotAccessor.__call__\u001b[1;34m(self, *args, **kwargs)\u001b[0m\n\u001b[0;32m    <a href='file:///c%3A/Users/aunik/AppData/Local/Programs/Python/Python310/lib/site-packages/pandas/plotting/_core.py?line=968'>969</a>\u001b[0m             label_name \u001b[39m=\u001b[39m label_kw \u001b[39mor\u001b[39;00m data\u001b[39m.\u001b[39mcolumns\n\u001b[0;32m    <a href='file:///c%3A/Users/aunik/AppData/Local/Programs/Python/Python310/lib/site-packages/pandas/plotting/_core.py?line=969'>970</a>\u001b[0m             data\u001b[39m.\u001b[39mcolumns \u001b[39m=\u001b[39m label_name\n\u001b[1;32m--> <a href='file:///c%3A/Users/aunik/AppData/Local/Programs/Python/Python310/lib/site-packages/pandas/plotting/_core.py?line=971'>972</a>\u001b[0m \u001b[39mreturn\u001b[39;00m plot_backend\u001b[39m.\u001b[39mplot(data, kind\u001b[39m=\u001b[39mkind, \u001b[39m*\u001b[39m\u001b[39m*\u001b[39mkwargs)\n",
      "File \u001b[1;32m~\\AppData\\Local\\Programs\\Python\\Python310\\lib\\site-packages\\pandas\\plotting\\_matplotlib\\__init__.py:71\u001b[0m, in \u001b[0;36mplot\u001b[1;34m(data, kind, **kwargs)\u001b[0m\n\u001b[0;32m     <a href='file:///c%3A/Users/aunik/AppData/Local/Programs/Python/Python310/lib/site-packages/pandas/plotting/_matplotlib/__init__.py?line=68'>69</a>\u001b[0m         kwargs[\u001b[39m\"\u001b[39m\u001b[39max\u001b[39m\u001b[39m\"\u001b[39m] \u001b[39m=\u001b[39m \u001b[39mgetattr\u001b[39m(ax, \u001b[39m\"\u001b[39m\u001b[39mleft_ax\u001b[39m\u001b[39m\"\u001b[39m, ax)\n\u001b[0;32m     <a href='file:///c%3A/Users/aunik/AppData/Local/Programs/Python/Python310/lib/site-packages/pandas/plotting/_matplotlib/__init__.py?line=69'>70</a>\u001b[0m plot_obj \u001b[39m=\u001b[39m PLOT_CLASSES[kind](data, \u001b[39m*\u001b[39m\u001b[39m*\u001b[39mkwargs)\n\u001b[1;32m---> <a href='file:///c%3A/Users/aunik/AppData/Local/Programs/Python/Python310/lib/site-packages/pandas/plotting/_matplotlib/__init__.py?line=70'>71</a>\u001b[0m plot_obj\u001b[39m.\u001b[39;49mgenerate()\n\u001b[0;32m     <a href='file:///c%3A/Users/aunik/AppData/Local/Programs/Python/Python310/lib/site-packages/pandas/plotting/_matplotlib/__init__.py?line=71'>72</a>\u001b[0m plot_obj\u001b[39m.\u001b[39mdraw()\n\u001b[0;32m     <a href='file:///c%3A/Users/aunik/AppData/Local/Programs/Python/Python310/lib/site-packages/pandas/plotting/_matplotlib/__init__.py?line=72'>73</a>\u001b[0m \u001b[39mreturn\u001b[39;00m plot_obj\u001b[39m.\u001b[39mresult\n",
      "File \u001b[1;32m~\\AppData\\Local\\Programs\\Python\\Python310\\lib\\site-packages\\pandas\\plotting\\_matplotlib\\core.py:329\u001b[0m, in \u001b[0;36mMPLPlot.generate\u001b[1;34m(self)\u001b[0m\n\u001b[0;32m    <a href='file:///c%3A/Users/aunik/AppData/Local/Programs/Python/Python310/lib/site-packages/pandas/plotting/_matplotlib/core.py?line=326'>327</a>\u001b[0m \u001b[39mself\u001b[39m\u001b[39m.\u001b[39m_compute_plot_data()\n\u001b[0;32m    <a href='file:///c%3A/Users/aunik/AppData/Local/Programs/Python/Python310/lib/site-packages/pandas/plotting/_matplotlib/core.py?line=327'>328</a>\u001b[0m \u001b[39mself\u001b[39m\u001b[39m.\u001b[39m_setup_subplots()\n\u001b[1;32m--> <a href='file:///c%3A/Users/aunik/AppData/Local/Programs/Python/Python310/lib/site-packages/pandas/plotting/_matplotlib/core.py?line=328'>329</a>\u001b[0m \u001b[39mself\u001b[39;49m\u001b[39m.\u001b[39;49m_make_plot()\n\u001b[0;32m    <a href='file:///c%3A/Users/aunik/AppData/Local/Programs/Python/Python310/lib/site-packages/pandas/plotting/_matplotlib/core.py?line=329'>330</a>\u001b[0m \u001b[39mself\u001b[39m\u001b[39m.\u001b[39m_add_table()\n\u001b[0;32m    <a href='file:///c%3A/Users/aunik/AppData/Local/Programs/Python/Python310/lib/site-packages/pandas/plotting/_matplotlib/core.py?line=330'>331</a>\u001b[0m \u001b[39mself\u001b[39m\u001b[39m.\u001b[39m_make_legend()\n",
      "File \u001b[1;32m~\\AppData\\Local\\Programs\\Python\\Python310\\lib\\site-packages\\pandas\\plotting\\_matplotlib\\hist.py:140\u001b[0m, in \u001b[0;36mHistPlot._make_plot\u001b[1;34m(self)\u001b[0m\n\u001b[0;32m    <a href='file:///c%3A/Users/aunik/AppData/Local/Programs/Python/Python310/lib/site-packages/pandas/plotting/_matplotlib/hist.py?line=136'>137</a>\u001b[0m \u001b[39mif\u001b[39;00m weights \u001b[39mis\u001b[39;00m \u001b[39mnot\u001b[39;00m \u001b[39mNone\u001b[39;00m \u001b[39mand\u001b[39;00m np\u001b[39m.\u001b[39mndim(weights) \u001b[39m!=\u001b[39m \u001b[39m1\u001b[39m:\n\u001b[0;32m    <a href='file:///c%3A/Users/aunik/AppData/Local/Programs/Python/Python310/lib/site-packages/pandas/plotting/_matplotlib/hist.py?line=137'>138</a>\u001b[0m     kwds[\u001b[39m\"\u001b[39m\u001b[39mweights\u001b[39m\u001b[39m\"\u001b[39m] \u001b[39m=\u001b[39m weights[:, i]\n\u001b[1;32m--> <a href='file:///c%3A/Users/aunik/AppData/Local/Programs/Python/Python310/lib/site-packages/pandas/plotting/_matplotlib/hist.py?line=139'>140</a>\u001b[0m artists \u001b[39m=\u001b[39m \u001b[39mself\u001b[39m\u001b[39m.\u001b[39m_plot(ax, y, column_num\u001b[39m=\u001b[39mi, stacking_id\u001b[39m=\u001b[39mstacking_id, \u001b[39m*\u001b[39m\u001b[39m*\u001b[39mkwds)\n\u001b[0;32m    <a href='file:///c%3A/Users/aunik/AppData/Local/Programs/Python/Python310/lib/site-packages/pandas/plotting/_matplotlib/hist.py?line=141'>142</a>\u001b[0m \u001b[39m# when by is applied, show title for subplots to know which group it is\u001b[39;00m\n\u001b[0;32m    <a href='file:///c%3A/Users/aunik/AppData/Local/Programs/Python/Python310/lib/site-packages/pandas/plotting/_matplotlib/hist.py?line=142'>143</a>\u001b[0m \u001b[39mif\u001b[39;00m \u001b[39mself\u001b[39m\u001b[39m.\u001b[39mby \u001b[39mis\u001b[39;00m \u001b[39mnot\u001b[39;00m \u001b[39mNone\u001b[39;00m:\n",
      "File \u001b[1;32m~\\AppData\\Local\\Programs\\Python\\Python310\\lib\\site-packages\\pandas\\plotting\\_matplotlib\\hist.py:213\u001b[0m, in \u001b[0;36mKdePlot._plot\u001b[1;34m(cls, ax, y, style, bw_method, ind, column_num, stacking_id, **kwds)\u001b[0m\n\u001b[0;32m    <a href='file:///c%3A/Users/aunik/AppData/Local/Programs/Python/Python310/lib/site-packages/pandas/plotting/_matplotlib/hist.py?line=200'>201</a>\u001b[0m \u001b[39m@classmethod\u001b[39m\n\u001b[0;32m    <a href='file:///c%3A/Users/aunik/AppData/Local/Programs/Python/Python310/lib/site-packages/pandas/plotting/_matplotlib/hist.py?line=201'>202</a>\u001b[0m \u001b[39mdef\u001b[39;00m \u001b[39m_plot\u001b[39m(\n\u001b[0;32m    <a href='file:///c%3A/Users/aunik/AppData/Local/Programs/Python/Python310/lib/site-packages/pandas/plotting/_matplotlib/hist.py?line=202'>203</a>\u001b[0m     \u001b[39mcls\u001b[39m,\n\u001b[1;32m   (...)\u001b[0m\n\u001b[0;32m    <a href='file:///c%3A/Users/aunik/AppData/Local/Programs/Python/Python310/lib/site-packages/pandas/plotting/_matplotlib/hist.py?line=210'>211</a>\u001b[0m     \u001b[39m*\u001b[39m\u001b[39m*\u001b[39mkwds,\n\u001b[0;32m    <a href='file:///c%3A/Users/aunik/AppData/Local/Programs/Python/Python310/lib/site-packages/pandas/plotting/_matplotlib/hist.py?line=211'>212</a>\u001b[0m ):\n\u001b[1;32m--> <a href='file:///c%3A/Users/aunik/AppData/Local/Programs/Python/Python310/lib/site-packages/pandas/plotting/_matplotlib/hist.py?line=212'>213</a>\u001b[0m     \u001b[39mfrom\u001b[39;00m \u001b[39mscipy\u001b[39;00m\u001b[39m.\u001b[39;00m\u001b[39mstats\u001b[39;00m \u001b[39mimport\u001b[39;00m gaussian_kde\n\u001b[0;32m    <a href='file:///c%3A/Users/aunik/AppData/Local/Programs/Python/Python310/lib/site-packages/pandas/plotting/_matplotlib/hist.py?line=214'>215</a>\u001b[0m     y \u001b[39m=\u001b[39m remove_na_arraylike(y)\n\u001b[0;32m    <a href='file:///c%3A/Users/aunik/AppData/Local/Programs/Python/Python310/lib/site-packages/pandas/plotting/_matplotlib/hist.py?line=215'>216</a>\u001b[0m     gkde \u001b[39m=\u001b[39m gaussian_kde(y, bw_method\u001b[39m=\u001b[39mbw_method)\n",
      "\u001b[1;31mModuleNotFoundError\u001b[0m: No module named 'scipy'"
     ]
    },
    {
     "data": {
      "image/png": "[encoded data removed]",
      "text/plain": [
       "<Figure size 432x288 with 1 Axes>"
      ]
     },
     "metadata": {
      "needs_background": "light"
     },
     "output_type": "display_data"
    }
   ],
   "source": [
    "df[['Fare']].plot(kind='density',xlim=[-10,100])"
   ]
  },
  {
   "cell_type": "code",
   "execution_count": null,
   "metadata": {},
   "outputs": [
    {
     "data": {
      "image/png": "[encoded data removed]",
      "text/plain": [
       "<Figure size 432x288 with 1 Axes>"
      ]
     },
     "metadata": {
      "needs_background": "light"
     },
     "output_type": "display_data"
    }
   ],
   "source": [
    "plt.hist(df['Fare'])\n",
    "plt.title('Fare vs #Travellers') \n",
    "plt.xlabel(\"Fare\")\n",
    "plt.ylabel(\"#Travellers\")\n",
    "plt.show()"
   ]
  },
  {
   "cell_type": "markdown",
   "metadata": {},
   "source": [
    "## Bar plot and line plot to see if the curve is monotonic in any sense"
   ]
  },
  {
   "cell_type": "code",
   "execution_count": null,
   "metadata": {},
   "outputs": [
    {
     "data": {
      "image/png": "[encoded data removed]",
      "text/plain": [
       "<Figure size 432x288 with 1 Axes>"
      ]
     },
     "metadata": {
      "needs_background": "light"
     },
     "output_type": "display_data"
    }
   ],
   "source": [
    "plt.bar(Fare_df['Fare_Type'], 100*Fare_df['%Died'],)\n",
    "plt.title('Fare_Type vs Death_Rate') \n",
    "plt.xlabel(\"Fare_Type\")\n",
    "plt.ylabel(\"Death_Rate\")\n",
    "plt.xticks(x,values)\n",
    "plt.show()"
   ]
  },
  {
   "cell_type": "code",
   "execution_count": null,
   "metadata": {},
   "outputs": [
    {
     "data": {
      "image/png": "[encoded data removed]",
      "text/plain": [
       "<Figure size 432x288 with 1 Axes>"
      ]
     },
     "metadata": {
      "needs_background": "light"
     },
     "output_type": "display_data"
    }
   ],
   "source": [
    "plt.plot(Fare_df['Fare_Type'],Fare_df['%Died'], color ='blue')\n",
    "plt.title('Fare_Type vs Death_Rate') \n",
    "plt.xlabel(\"Fare_Type\")\n",
    "plt.ylabel(\"Death_Rate\")\n",
    "plt.show()"
   ]
  },
  {
   "cell_type": "markdown",
   "metadata": {},
   "source": [
    "From this, even though there are more number of travellers in middle aged than children the death rate is still high which proves that age is a good differentiator for survival\n",
    "Number of old people travelling is more than children but less than middle aged , but their death rate is the highest.\n",
    "Putting it all together, More the age more was the chance for someone to die."
   ]
  },
  {
   "cell_type": "markdown",
   "metadata": {},
   "source": [
    "# Sex Analysis"
   ]
  },
  {
   "cell_type": "code",
   "execution_count": null,
   "metadata": {
    "scrolled": true
   },
   "outputs": [
    {
     "data": {
      "text/plain": [
       "male      577\n",
       "female    314\n",
       "Name: Sex, dtype: int64"
      ]
     },
     "execution_count": 63,
     "metadata": {},
     "output_type": "execute_result"
    }
   ],
   "source": [
    "df['Sex'].value_counts()"
   ]
  },
  {
   "cell_type": "markdown",
   "metadata": {},
   "source": [
    "### Created temporary dataframe for plotting purposes"
   ]
  },
  {
   "cell_type": "code",
   "execution_count": null,
   "metadata": {},
   "outputs": [
    {
     "data": {
      "text/html": [
       "<div>\n",
       "<style scoped>\n",
       "    .dataframe tbody tr th:only-of-type {\n",
       "        vertical-align: middle;\n",
       "    }\n",
       "\n",
       "    .dataframe tbody tr th {\n",
       "        vertical-align: top;\n",
       "    }\n",
       "\n",
       "    .dataframe thead th {\n",
       "        text-align: right;\n",
       "    }\n",
       "</style>\n",
       "<table border=\"1\" class=\"dataframe\">\n",
       "  <thead>\n",
       "    <tr style=\"text-align: right;\">\n",
       "      <th></th>\n",
       "      <th>Sex</th>\n",
       "      <th>#Survived</th>\n",
       "      <th>#Travellers</th>\n",
       "      <th>%Survivors</th>\n",
       "    </tr>\n",
       "  </thead>\n",
       "  <tbody>\n",
       "    <tr>\n",
       "      <th>0</th>\n",
       "      <td>female</td>\n",
       "      <td>233</td>\n",
       "      <td>314</td>\n",
       "      <td>0.742038</td>\n",
       "    </tr>\n",
       "    <tr>\n",
       "      <th>1</th>\n",
       "      <td>male</td>\n",
       "      <td>109</td>\n",
       "      <td>577</td>\n",
       "      <td>0.188908</td>\n",
       "    </tr>\n",
       "  </tbody>\n",
       "</table>\n",
       "</div>"
      ],
      "text/plain": [
       "      Sex  #Survived  #Travellers  %Survivors\n",
       "0  female        233          314    0.742038\n",
       "1    male        109          577    0.188908"
      ]
     },
     "execution_count": 65,
     "metadata": {},
     "output_type": "execute_result"
    }
   ],
   "source": [
    "Sex_df=df.groupby('Sex').agg({'Survived':['sum','count','mean']}).reset_index().droplevel(0,axis=1)\n",
    "Sex_df.columns=['Sex','#Survived','#Travellers','%Survivors']\n",
    "Sex_df"
   ]
  },
  {
   "cell_type": "code",
   "execution_count": null,
   "metadata": {},
   "outputs": [
    {
     "data": {
      "text/html": [
       "<div>\n",
       "<style scoped>\n",
       "    .dataframe tbody tr th:only-of-type {\n",
       "        vertical-align: middle;\n",
       "    }\n",
       "\n",
       "    .dataframe tbody tr th {\n",
       "        vertical-align: top;\n",
       "    }\n",
       "\n",
       "    .dataframe thead th {\n",
       "        text-align: right;\n",
       "    }\n",
       "</style>\n",
       "<table border=\"1\" class=\"dataframe\">\n",
       "  <thead>\n",
       "    <tr style=\"text-align: right;\">\n",
       "      <th></th>\n",
       "      <th>Sex</th>\n",
       "      <th>#Survived</th>\n",
       "      <th>#Travellers</th>\n",
       "      <th>%Survivors</th>\n",
       "      <th>#Died</th>\n",
       "      <th>%Died</th>\n",
       "    </tr>\n",
       "  </thead>\n",
       "  <tbody>\n",
       "    <tr>\n",
       "      <th>0</th>\n",
       "      <td>female</td>\n",
       "      <td>233</td>\n",
       "      <td>314</td>\n",
       "      <td>0.742038</td>\n",
       "      <td>81</td>\n",
       "      <td>0.257962</td>\n",
       "    </tr>\n",
       "    <tr>\n",
       "      <th>1</th>\n",
       "      <td>male</td>\n",
       "      <td>109</td>\n",
       "      <td>577</td>\n",
       "      <td>0.188908</td>\n",
       "      <td>468</td>\n",
       "      <td>0.811092</td>\n",
       "    </tr>\n",
       "  </tbody>\n",
       "</table>\n",
       "</div>"
      ],
      "text/plain": [
       "      Sex  #Survived  #Travellers  %Survivors  #Died     %Died\n",
       "0  female        233          314    0.742038     81  0.257962\n",
       "1    male        109          577    0.188908    468  0.811092"
      ]
     },
     "execution_count": 67,
     "metadata": {},
     "output_type": "execute_result"
    }
   ],
   "source": [
    "Sex_df['#Died']=Sex_df['#Travellers']-Sex_df['#Survived']\n",
    "Sex_df['%Died']=Sex_df['#Died']/Sex_df['#Travellers']\n",
    "Sex_df"
   ]
  },
  {
   "cell_type": "markdown",
   "metadata": {},
   "source": [
    "## Density plot and histogram plots to see the frequency of travellers based on Sex"
   ]
  },
  {
   "cell_type": "code",
   "execution_count": null,
   "metadata": {
    "scrolled": false
   },
   "outputs": [
    {
     "data": {
      "text/plain": [
       "<AxesSubplot:ylabel='Density'>"
      ]
     },
     "execution_count": 72,
     "metadata": {},
     "output_type": "execute_result"
    },
    {
     "data": {
      "image/png": "[encoded data removed]",
      "text/plain": [
       "<Figure size 432x288 with 1 Axes>"
      ]
     },
     "metadata": {
      "needs_background": "light"
     },
     "output_type": "display_data"
    }
   ],
   "source": [
    "df['Sex'].apply(lambda x:1 if x=='male' else 0).plot.density(color='green')\n",
    "\n",
    "## 1 if male\n",
    "## 0 if female\n",
    "\n",
    "##The graph peaks at 0,1 but the peak at 1 is almost twice that of at 0 saying the density of male is almost double that of female"
   ]
  },
  {
   "cell_type": "code",
   "execution_count": null,
   "metadata": {},
   "outputs": [
    {
     "data": {
      "image/png": "[encoded data removed]",
      "text/plain": [
       "<Figure size 432x288 with 1 Axes>"
      ]
     },
     "metadata": {
      "needs_background": "light"
     },
     "output_type": "display_data"
    }
   ],
   "source": [
    "plt.hist(df['Sex'])\n",
    "plt.title('Sex vs #Travellers') \n",
    "plt.xlabel(\"Sex\")\n",
    "plt.ylabel(\"#Travellers\")\n",
    "plt.show()"
   ]
  },
  {
   "cell_type": "markdown",
   "metadata": {},
   "source": [
    "## Bar plot and line plot to see if the curve is monotonic in any sense"
   ]
  },
  {
   "cell_type": "code",
   "execution_count": null,
   "metadata": {},
   "outputs": [
    {
     "data": {
      "image/png": "[encoded data removed]",
      "text/plain": [
       "<Figure size 432x288 with 1 Axes>"
      ]
     },
     "metadata": {
      "needs_background": "light"
     },
     "output_type": "display_data"
    }
   ],
   "source": [
    "plt.bar(Sex_df['Sex'], 100*Sex_df['%Died'])\n",
    "plt.title('Sex vs Death_Rate') \n",
    "plt.xlabel(\"Sex\")\n",
    "plt.ylabel(\"Death_Rate\")\n",
    "plt.show()"
   ]
  },
  {
   "cell_type": "code",
   "execution_count": null,
   "metadata": {},
   "outputs": [
    {
     "data": {
      "image/png": "[encoded data removed]",
      "text/plain": [
       "<Figure size 432x288 with 1 Axes>"
      ]
     },
     "metadata": {
      "needs_background": "light"
     },
     "output_type": "display_data"
    }
   ],
   "source": [
    "plt.plot(Sex_df['Sex'],100*Sex_df['%Died'], color ='blue')\n",
    "plt.title('Sex vs Death_Rate') \n",
    "plt.xlabel(\"Sex\")\n",
    "plt.ylabel(\"Death_Rate\")\n",
    "plt.show()"
   ]
  },
  {
   "cell_type": "raw",
   "metadata": {},
   "source": [
    "From this, even though there are more number of male travellers than female traveller(Almost double) the death rate is very high almost 80% in male when compared to female (25%) which proves that the casulaty rate was more in male and \"SEX\" can be used as a a very strong indicator to identify Survival Rate"
   ]
  },
  {
   "cell_type": "markdown",
   "metadata": {},
   "source": [
    "# Financial Status Analysis"
   ]
  },
  {
   "cell_type": "markdown",
   "metadata": {},
   "source": [
    "### As we don't have a clear defined rich/poor segregation we will be using the fare price as a proxy to identify one's financial capability"
   ]
  },
  {
   "cell_type": "code",
   "execution_count": null,
   "metadata": {},
   "outputs": [
    {
     "data": {
      "text/plain": [
       "0.1     7.5500\n",
       "0.3     8.0500\n",
       "0.5    14.4542\n",
       "0.7    27.0000\n",
       "0.9    77.9583\n",
       "Name: Fare, dtype: float64"
      ]
     },
     "execution_count": 78,
     "metadata": {},
     "output_type": "execute_result"
    }
   ],
   "source": [
    "df['Fare'].quantile([0.1,0.3,0.5,0.7,0.9])"
   ]
  },
  {
   "cell_type": "code",
   "execution_count": null,
   "metadata": {},
   "outputs": [
    {
     "data": {
      "text/plain": [
       "32.2042079685746"
      ]
     },
     "execution_count": 79,
     "metadata": {},
     "output_type": "execute_result"
    }
   ],
   "source": [
    "df['Fare'].mean()"
   ]
  },
  {
   "cell_type": "raw",
   "metadata": {},
   "source": [
    "50% of the travellers are travelling within the far of 14.4542$ where as the averge fare price was 32.204$\n",
    "This says that there are more travellers travelling with lower ticket fares but only about 10% of travellers have paid a much higher price which made the mean value so high\n",
    "\n",
    "To prove this the 90% quantile value says us that 90% of the travellers have paid only 77.95$ or less but the highest price was about 500$"
   ]
  },
  {
   "cell_type": "raw",
   "metadata": {},
   "source": [
    "Mapping Fare from continous values to discrete classes\n",
    "Rich-- Fare>80$\n",
    "Middle_Class-- Fare>20$ and Fare<80$\n",
    "Poor-- Fare<20$"
   ]
  },
  {
   "cell_type": "code",
   "execution_count": null,
   "metadata": {},
   "outputs": [],
   "source": [
    "df['Fare_Labelled']=df['Fare'].apply(lambda x:\"Poor\" if x<20 else (\"Middle_Class\" if x>20 and x<80 else \"Rich\"))"
   ]
  },
  {
   "cell_type": "code",
   "execution_count": null,
   "metadata": {},
   "outputs": [
    {
     "data": {
      "text/plain": [
       "Poor            515\n",
       "Middle_Class    300\n",
       "Rich             76\n",
       "Name: Fare_Labelled, dtype: int64"
      ]
     },
     "execution_count": 86,
     "metadata": {},
     "output_type": "execute_result"
    }
   ],
   "source": [
    "df['Fare_Labelled'].value_counts()"
   ]
  },
  {
   "cell_type": "markdown",
   "metadata": {},
   "source": [
    "### Created temporary dataframe for plotting purposes"
   ]
  },
  {
   "cell_type": "code",
   "execution_count": null,
   "metadata": {},
   "outputs": [
    {
     "data": {
      "text/html": [
       "<div>\n",
       "<style scoped>\n",
       "    .dataframe tbody tr th:only-of-type {\n",
       "        vertical-align: middle;\n",
       "    }\n",
       "\n",
       "    .dataframe tbody tr th {\n",
       "        vertical-align: top;\n",
       "    }\n",
       "\n",
       "    .dataframe thead th {\n",
       "        text-align: right;\n",
       "    }\n",
       "</style>\n",
       "<table border=\"1\" class=\"dataframe\">\n",
       "  <thead>\n",
       "    <tr style=\"text-align: right;\">\n",
       "      <th></th>\n",
       "      <th>Fare_Type</th>\n",
       "      <th>#Survived</th>\n",
       "      <th>#Travellers</th>\n",
       "      <th>%Survivors</th>\n",
       "    </tr>\n",
       "  </thead>\n",
       "  <tbody>\n",
       "    <tr>\n",
       "      <th>0</th>\n",
       "      <td>Middle_Class</td>\n",
       "      <td>140</td>\n",
       "      <td>300</td>\n",
       "      <td>0.466667</td>\n",
       "    </tr>\n",
       "    <tr>\n",
       "      <th>1</th>\n",
       "      <td>Poor</td>\n",
       "      <td>143</td>\n",
       "      <td>515</td>\n",
       "      <td>0.277670</td>\n",
       "    </tr>\n",
       "    <tr>\n",
       "      <th>2</th>\n",
       "      <td>Rich</td>\n",
       "      <td>59</td>\n",
       "      <td>76</td>\n",
       "      <td>0.776316</td>\n",
       "    </tr>\n",
       "  </tbody>\n",
       "</table>\n",
       "</div>"
      ],
      "text/plain": [
       "      Fare_Type  #Survived  #Travellers  %Survivors\n",
       "0  Middle_Class        140          300    0.466667\n",
       "1          Poor        143          515    0.277670\n",
       "2          Rich         59           76    0.776316"
      ]
     },
     "execution_count": 87,
     "metadata": {},
     "output_type": "execute_result"
    }
   ],
   "source": [
    "Fare_df=df.groupby('Fare_Labelled').agg({'Survived':['sum','count','mean']}).reset_index().droplevel(0,axis=1)\n",
    "Fare_df.columns=['Fare_Type','#Survived','#Travellers','%Survivors']\n",
    "Fare_df"
   ]
  },
  {
   "cell_type": "code",
   "execution_count": null,
   "metadata": {},
   "outputs": [
    {
     "data": {
      "text/html": [
       "<div>\n",
       "<style scoped>\n",
       "    .dataframe tbody tr th:only-of-type {\n",
       "        vertical-align: middle;\n",
       "    }\n",
       "\n",
       "    .dataframe tbody tr th {\n",
       "        vertical-align: top;\n",
       "    }\n",
       "\n",
       "    .dataframe thead th {\n",
       "        text-align: right;\n",
       "    }\n",
       "</style>\n",
       "<table border=\"1\" class=\"dataframe\">\n",
       "  <thead>\n",
       "    <tr style=\"text-align: right;\">\n",
       "      <th></th>\n",
       "      <th>Fare_Type</th>\n",
       "      <th>#Survived</th>\n",
       "      <th>#Travellers</th>\n",
       "      <th>%Survivors</th>\n",
       "      <th>#Died</th>\n",
       "      <th>%Died</th>\n",
       "    </tr>\n",
       "  </thead>\n",
       "  <tbody>\n",
       "    <tr>\n",
       "      <th>0</th>\n",
       "      <td>Middle_Class</td>\n",
       "      <td>140</td>\n",
       "      <td>300</td>\n",
       "      <td>0.466667</td>\n",
       "      <td>160</td>\n",
       "      <td>0.533333</td>\n",
       "    </tr>\n",
       "    <tr>\n",
       "      <th>1</th>\n",
       "      <td>Poor</td>\n",
       "      <td>143</td>\n",
       "      <td>515</td>\n",
       "      <td>0.277670</td>\n",
       "      <td>372</td>\n",
       "      <td>0.722330</td>\n",
       "    </tr>\n",
       "    <tr>\n",
       "      <th>2</th>\n",
       "      <td>Rich</td>\n",
       "      <td>59</td>\n",
       "      <td>76</td>\n",
       "      <td>0.776316</td>\n",
       "      <td>17</td>\n",
       "      <td>0.223684</td>\n",
       "    </tr>\n",
       "  </tbody>\n",
       "</table>\n",
       "</div>"
      ],
      "text/plain": [
       "      Fare_Type  #Survived  #Travellers  %Survivors  #Died     %Died\n",
       "0  Middle_Class        140          300    0.466667    160  0.533333\n",
       "1          Poor        143          515    0.277670    372  0.722330\n",
       "2          Rich         59           76    0.776316     17  0.223684"
      ]
     },
     "execution_count": 88,
     "metadata": {},
     "output_type": "execute_result"
    }
   ],
   "source": [
    "Fare_df['#Died']=Fare_df['#Travellers']-Fare_df['#Survived']\n",
    "Fare_df['%Died']=Fare_df['#Died']/Fare_df['#Travellers']\n",
    "Fare_df"
   ]
  },
  {
   "cell_type": "markdown",
   "metadata": {},
   "source": [
    "## Density plot and histogram plots to see the frequency of travellers based on Age"
   ]
  },
  {
   "cell_type": "code",
   "execution_count": null,
   "metadata": {},
   "outputs": [
    {
     "data": {
      "text/plain": [
       "<AxesSubplot:ylabel='Density'>"
      ]
     },
     "execution_count": 113,
     "metadata": {},
     "output_type": "execute_result"
    },
    {
     "data": {
      "image/png": "[encoded data removed]",
      "text/plain": [
       "<Figure size 432x288 with 1 Axes>"
      ]
     },
     "metadata": {
      "needs_background": "light"
     },
     "output_type": "display_data"
    }
   ],
   "source": [
    "df[['Fare']].plot(kind='density',xlim=[-10,100])"
   ]
  },
  {
   "cell_type": "code",
   "execution_count": null,
   "metadata": {},
   "outputs": [
    {
     "data": {
      "image/png": "[encoded data removed]",
      "text/plain": [
       "<Figure size 432x288 with 1 Axes>"
      ]
     },
     "metadata": {
      "needs_background": "light"
     },
     "output_type": "display_data"
    }
   ],
   "source": [
    "plt.hist(df['Fare'])\n",
    "plt.title('Fare vs #Travellers') \n",
    "plt.xlabel(\"Fare\")\n",
    "plt.ylabel(\"#Travellers\")\n",
    "plt.show()"
   ]
  },
  {
   "cell_type": "markdown",
   "metadata": {},
   "source": [
    "## Bar plot and line plot to see if the curve is monotonic in any sense"
   ]
  },
  {
   "cell_type": "code",
   "execution_count": null,
   "metadata": {},
   "outputs": [
    {
     "data": {
      "image/png": "[encoded data removed]",
      "text/plain": [
       "<Figure size 432x288 with 1 Axes>"
      ]
     },
     "metadata": {
      "needs_background": "light"
     },
     "output_type": "display_data"
    }
   ],
   "source": [
    "plt.bar(Fare_df['Fare_Type'], 100*Fare_df['%Died'])\n",
    "plt.title('Fare_Type vs Death_Rate') \n",
    "plt.xlabel(\"Fare_Type\")\n",
    "plt.ylabel(\"Death_Rate\")\n",
    "plt.show()"
   ]
  },
  {
   "cell_type": "code",
   "execution_count": null,
   "metadata": {},
   "outputs": [
    {
     "data": {
      "image/png": "[encoded data removed]",
      "text/plain": [
       "<Figure size 432x288 with 1 Axes>"
      ]
     },
     "metadata": {
      "needs_background": "light"
     },
     "output_type": "display_data"
    }
   ],
   "source": [
    "plt.plot(Fare_df['Fare_Type'],100*Fare_df['%Died'], color ='blue')\n",
    "plt.title('Fare_Type vs Death_Rate') \n",
    "plt.xlabel(\"Fare_Type\")\n",
    "plt.ylabel(\"Death_Rate\")\n",
    "plt.show()"
   ]
  },
  {
   "cell_type": "raw",
   "metadata": {},
   "source": [
    "From this, even though there are more number of travellers who are poor as compared to middle class or rich the death rates are significantly higher there.\n",
    "\n",
    "The number of middle class travellers is more than rich people but their death rate is comparibly higher than the rich\n",
    "\n",
    "This clearly shows us the more the price a traveller has paid the more was his chance for survival.\n",
    "\n",
    "\"Fare\" is a strong indicator for survival rate."
   ]
  },
  {
   "cell_type": "markdown",
   "metadata": {},
   "source": [
    "# Conclusion"
   ]
  },
  {
   "cell_type": "markdown",
   "metadata": {},
   "source": [
    "## All three \"Fare\",\"Age\",\"Gender\" are very strong indicators for predicting if someone could survive the titanic."
   ]
  },
  {
   "cell_type": "code",
   "execution_count": null,
   "metadata": {},
   "outputs": [],
   "source": []
  }
 ],
 "metadata": {
  "kernelspec": {
   "display_name": "Python 3",
   "language": "python",
   "name": "python3"
  },
  "language_info": {
   "codemirror_mode": {
    "name": "ipython",
    "version": 3
   },
   "file_extension": ".py",
   "mimetype": "text/x-python",
   "name": "python",
   "nbconvert_exporter": "python",
   "pygments_lexer": "ipython3",
   "version": "3.10.4"
  }
 },
 "nbformat": 4,
 "nbformat_minor": 4
}
